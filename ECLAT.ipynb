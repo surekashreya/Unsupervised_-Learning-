{
 "cells": [
  {
   "cell_type": "code",
   "execution_count": 4,
   "id": "b94ba2dc",
   "metadata": {},
   "outputs": [
    {
     "name": "stdout",
     "output_type": "stream",
     "text": [
      "Collecting pyECLAT\n",
      "  Downloading pyECLAT-1.0.2-py3-none-any.whl (6.3 kB)\n",
      "Requirement already satisfied: numpy>=1.17.4 in c:\\users\\shreya sureka\\anaconda3\\lib\\site-packages (from pyECLAT) (1.18.5)\n",
      "Requirement already satisfied: tqdm>=4.41.1 in c:\\users\\shreya sureka\\anaconda3\\lib\\site-packages (from pyECLAT) (4.62.0)\n",
      "Requirement already satisfied: pandas>=0.25.3 in c:\\users\\shreya sureka\\anaconda3\\lib\\site-packages (from pyECLAT) (1.2.4)\n",
      "Requirement already satisfied: python-dateutil>=2.7.3 in c:\\users\\shreya sureka\\anaconda3\\lib\\site-packages (from pandas>=0.25.3->pyECLAT) (2.8.2)\n",
      "Requirement already satisfied: pytz>=2017.3 in c:\\users\\shreya sureka\\anaconda3\\lib\\site-packages (from pandas>=0.25.3->pyECLAT) (2021.1)\n",
      "Requirement already satisfied: six>=1.5 in c:\\users\\shreya sureka\\anaconda3\\lib\\site-packages (from python-dateutil>=2.7.3->pandas>=0.25.3->pyECLAT) (1.16.0)\n",
      "Requirement already satisfied: colorama in c:\\users\\shreya sureka\\anaconda3\\lib\\site-packages (from tqdm>=4.41.1->pyECLAT) (0.3.9)\n",
      "Installing collected packages: pyECLAT\n",
      "Successfully installed pyECLAT-1.0.2\n"
     ]
    }
   ],
   "source": [
    "!pip install pyECLAT"
   ]
  },
  {
   "cell_type": "code",
   "execution_count": 5,
   "id": "ae69496c",
   "metadata": {},
   "outputs": [],
   "source": [
    "from pyECLAT import Example1, Example2\n",
    "ex1=Example1().get()"
   ]
  },
  {
   "cell_type": "code",
   "execution_count": 6,
   "id": "81756a8a",
   "metadata": {},
   "outputs": [],
   "source": [
    "from pyECLAT import ECLAT"
   ]
  },
  {
   "cell_type": "code",
   "execution_count": 9,
   "id": "2c37cdc4",
   "metadata": {},
   "outputs": [],
   "source": [
    "eclat=ECLAT(data=ex1)"
   ]
  },
  {
   "cell_type": "code",
   "execution_count": 10,
   "id": "07fb3e3c",
   "metadata": {},
   "outputs": [],
   "source": [
    "support=2/len(ex1)"
   ]
  },
  {
   "cell_type": "code",
   "execution_count": 12,
   "id": "f944c63d",
   "metadata": {},
   "outputs": [
    {
     "name": "stdout",
     "output_type": "stream",
     "text": [
      "Combination 2 by 2\n"
     ]
    },
    {
     "name": "stderr",
     "output_type": "stream",
     "text": [
      "21it [00:00, 291.55it/s]\n"
     ]
    },
    {
     "name": "stdout",
     "output_type": "stream",
     "text": [
      "Combination 3 by 3\n"
     ]
    },
    {
     "name": "stderr",
     "output_type": "stream",
     "text": [
      "35it [00:00, 290.20it/s]\n"
     ]
    },
    {
     "name": "stdout",
     "output_type": "stream",
     "text": [
      "Combination 4 by 4\n"
     ]
    },
    {
     "name": "stderr",
     "output_type": "stream",
     "text": [
      "35it [00:00, 311.20it/s]\n"
     ]
    },
    {
     "name": "stdout",
     "output_type": "stream",
     "text": [
      "Combination 5 by 5\n"
     ]
    },
    {
     "name": "stderr",
     "output_type": "stream",
     "text": [
      "21it [00:00, 236.74it/s]\n"
     ]
    },
    {
     "name": "stdout",
     "output_type": "stream",
     "text": [
      "Combination 6 by 6\n"
     ]
    },
    {
     "name": "stderr",
     "output_type": "stream",
     "text": [
      "7it [00:00, 218.51it/s]\n"
     ]
    },
    {
     "name": "stdout",
     "output_type": "stream",
     "text": [
      "Combination 7 by 7\n"
     ]
    },
    {
     "name": "stderr",
     "output_type": "stream",
     "text": [
      "1it [00:00, 60.18it/s]\n"
     ]
    }
   ],
   "source": [
    "rules=eclat.fit(min_support=support,min_combination=2,max_combination=7)"
   ]
  },
  {
   "cell_type": "code",
   "execution_count": 13,
   "id": "26eee463",
   "metadata": {},
   "outputs": [
    {
     "name": "stdout",
     "output_type": "stream",
     "text": [
      "({'milk & bread': [0, 3], 'milk & butter': [0, 3], 'bread & butter': [0, 1, 2, 3], 'bread & coffe': [1, 2, 3], 'butter & coffe': [1, 2, 3], 'milk & bread & butter': [0, 3], 'bread & butter & coffe': [1, 2, 3]}, {'milk & bread': 0.2, 'milk & butter': 0.2, 'bread & butter': 0.4, 'bread & coffe': 0.3, 'butter & coffe': 0.3, 'milk & bread & butter': 0.2, 'bread & butter & coffe': 0.3})\n"
     ]
    }
   ],
   "source": [
    "print(rules)"
   ]
  }
 ],
 "metadata": {
  "kernelspec": {
   "display_name": "Python 3",
   "language": "python",
   "name": "python3"
  },
  "language_info": {
   "codemirror_mode": {
    "name": "ipython",
    "version": 3
   },
   "file_extension": ".py",
   "mimetype": "text/x-python",
   "name": "python",
   "nbconvert_exporter": "python",
   "pygments_lexer": "ipython3",
   "version": "3.8.3"
  }
 },
 "nbformat": 4,
 "nbformat_minor": 5
}
